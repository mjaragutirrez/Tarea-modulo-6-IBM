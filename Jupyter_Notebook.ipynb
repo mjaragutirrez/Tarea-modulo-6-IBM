{
 "cells": [
  {
   "cell_type": "markdown",
   "metadata": {},
   "source": [
    "<center>\n",
    "    <img src=\"https://cf-courses-data.s3.us.cloud-object-storage.appdomain.cloud/IBMDeveloperSkillsNetwork-DS0105EN-SkillsNetwork/labs/Module2/images/SN_web_lightmode.png\" width=\"300\" alt=\"cognitiveclass.ai logo\">\n",
    "</center>\n"
   ]
  },
  {
   "cell_type": "markdown",
   "metadata": {},
   "source": [
    "#### Add your code below following the instructions given in the course\n"
   ]
  },
  {
   "cell_type": "markdown",
   "metadata": {},
   "source": [
    "#Cuaderno tarea evaluada modulo 6"
   ]
  },
  {
   "cell_type": "markdown",
   "metadata": {},
   "source": [
    "# Este cuaderno es sobre la tarea evaluada del modulo 6 del curso de Ciencia de Datos de IBM. Se usara Jupyter para la manipulacion de datos y analisar estos."
   ]
  },
  {
   "cell_type": "markdown",
   "metadata": {},
   "source": [
    "# Enumeracion de los lenguajes de ciencia de datos \n",
    "1. Python\n",
    "2. Java\n",
    "3. SQL\n",
    "4. R\n",
    "5. SAS\n",
    "6. Julia"
   ]
  },
  {
   "cell_type": "markdown",
   "metadata": {},
   "source": [
    "# Bibliotecas de Ciencia de Datos\n",
    "1. Numpy\n",
    "2. Pandas\n",
    "3. Seaborn\n",
    "4. TensorFlow\n",
    "5. Matplotlib\n",
    "6. Scikit-learn"
   ]
  },
  {
   "cell_type": "markdown",
   "metadata": {},
   "source": [
    "# Herramientas de Ciencia de Datos\n",
    "| Herramienta        | Descripción                                      | Tipo                    |\n",
    "|--------------------|--------------------------------------------------|-------------------------|\n",
    "|Jupyter Notebook|\tEntorno interactivo para crear y compartir cuadernos de datos.|\tEntorno de desarrollo|\n",
    "|RStudio\t|Entorno de desarrollo integrado (IDE) para análisis en R.\t|Entorno de desarrollo|\n",
    "|Anaconda|\tDistribución de Python para facilitar la gestión de entornos y paquetes.\t|Plataforma de gestión|\n",
    "|Anaconda |Distribución de Python para facilitar la gestión de entornos y paquetes.|\tPlataforma de gestión|\n",
    "Power BI\t|Herramienta de Microsoft para crear visualizaciones de datos.\t|Visualización de datos|\n",
    "Google Colab\t|Entorno basado en la web para ejecutar cuadernos de Jupyter.\t|Entorno de desarrollo|"
   ]
  },
  {
   "cell_type": "markdown",
   "metadata": {},
   "source": [
    "# Ejemplos de expresiones aritmeticas\n",
    "Suma\n",
    "4+2=6\n",
    "\n",
    "Resta\n",
    "4-2=2\n",
    "\n",
    "Multiplicacion\n",
    "4*2=8\n",
    "\n",
    "Division\n",
    "4/2=2\n",
    "\n",
    "Divison enteros\n",
    "11//5= 2\n",
    "\n",
    "Exponente\n",
    "4**2= 16\n"
   ]
  },
  {
   "cell_type": "code",
   "execution_count": 7,
   "metadata": {},
   "outputs": [
    {
     "data": {
      "text/plain": [
       "(6, 8)"
      ]
     },
     "execution_count": 7,
     "metadata": {},
     "output_type": "execute_result"
    }
   ],
   "source": [
    "#ejemplo\n",
    "numero1 = 4\n",
    "numero2 = 2\n",
    "\n",
    "# suma\n",
    "Suma = numero1 + numero2\n",
    "\n",
    "# Multiplicacion\n",
    "Multi= numero1 * numero2\n",
    "\n",
    "Suma, Multi"
   ]
  },
  {
   "cell_type": "code",
   "execution_count": 2,
   "metadata": {
    "scrolled": true
   },
   "outputs": [
    {
     "data": {
      "text/plain": [
       "(1, 40)"
      ]
     },
     "execution_count": 2,
     "metadata": {},
     "output_type": "execute_result"
    }
   ],
   "source": [
    "#Convertir minutos en horas\n",
    "def min_a_horas(minutos):\n",
    "    h = m // 60 \n",
    "    m_restantes = m % 60 \n",
    "    return h, m_restantes\n",
    "\n",
    "#Ejemplo\n",
    "m = 100\n",
    "h, m_restantes = min_a_horas(m)\n",
    "\n",
    "h, m_restantes"
   ]
  },
  {
   "cell_type": "code",
   "execution_count": 23,
   "metadata": {},
   "outputs": [
    {
     "name": "stdout",
     "output_type": "stream",
     "text": [
      "Objetivos de la tarea:\n",
      "\n",
      "1. Crear un cuaderno Jupyterlite utilizando las herramientas de Skills Network.\n",
      "2. Completar las celdas markdown y de código para cumplir con los ejercicios descritos:\n",
      "   - Títulos, introducción y listados de lenguajes y bibliotecas.\n",
      "   - Crear una tabla de herramientas de Ciencia de Datos.\n",
      "   - Insertar ejemplos de expresiones aritméticas y código para multiplicar y sumar números.\n",
      "   - Convertir minutos en horas con código.\n",
      "   - Definir objetivos y añadir el nombre del autor.\n",
      "3. Compartir el cuaderno en GitHub con un enlace público.\n",
      "4. Capturar una pantalla del cuaderno, incluyendo tanto el encabezado como el resultado final de las celdas.\n",
      "5. Asegurarse de que el cuaderno sea accesible públicamente y contenga al menos 8 celdas Markdown y 2 celdas de código.\n"
     ]
    }
   ],
   "source": [
    "print(\"Objetivos de la tarea:\")\n",
    "\n",
    "print(\"\\n1. Crear un cuaderno Jupyterlite utilizando las herramientas de Skills Network.\")\n",
    "print(\"2. Completar las celdas markdown y de código para cumplir con los ejercicios descritos:\")\n",
    "print(\"   - Títulos, introducción y listados de lenguajes y bibliotecas.\")\n",
    "print(\"   - Crear una tabla de herramientas de Ciencia de Datos.\")\n",
    "print(\"   - Insertar ejemplos de expresiones aritméticas y código para multiplicar y sumar números.\")\n",
    "print(\"   - Convertir minutos en horas con código.\")\n",
    "print(\"   - Definir objetivos y añadir el nombre del autor.\")\n",
    "print(\"3. Compartir el cuaderno en GitHub con un enlace público.\")\n",
    "print(\"4. Capturar una pantalla del cuaderno, incluyendo tanto el encabezado como el resultado final de las celdas.\")\n",
    "print(\"5. Asegurarse de que el cuaderno sea accesible públicamente y contenga al menos 8 celdas Markdown y 2 celdas de código.\")"
   ]
  },
  {
   "cell_type": "markdown",
   "metadata": {},
   "source": [
    "# Autor: Matías Jara"
   ]
  },
  {
   "cell_type": "code",
   "execution_count": null,
   "metadata": {},
   "outputs": [],
   "source": []
  }
 ],
 "metadata": {
  "kernelspec": {
   "display_name": "Python 3 (ipykernel)",
   "language": "python",
   "name": "python3"
  },
  "language_info": {
   "codemirror_mode": {
    "name": "ipython",
    "version": 3
   },
   "file_extension": ".py",
   "mimetype": "text/x-python",
   "name": "python",
   "nbconvert_exporter": "python",
   "pygments_lexer": "ipython3",
   "version": "3.12.8"
  }
 },
 "nbformat": 4,
 "nbformat_minor": 4
}
